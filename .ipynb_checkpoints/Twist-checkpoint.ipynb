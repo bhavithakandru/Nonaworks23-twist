{
 "cells": [
  {
   "cell_type": "markdown",
   "metadata": {},
   "source": [
    "# Twist Problem 1: 2023\n",
    "\n",
    "## Authors: \n",
    "\n",
    "\n",
    "## Problem Statement:\n",
    "A tool that, given an oligo pool of any size, will detect collections of oligos in that pool that could be assembled via restriction, PCA or Gibson-like methods. This would be an important contribution to biosecurity around ensuring oligo pools cannot be misused to assemble sequences that would otherwise be controlled."
   ]
  },
  {
   "cell_type": "markdown",
   "metadata": {},
   "source": []
  }
 ],
 "metadata": {
  "kernelspec": {
   "display_name": "Python 3",
   "language": "python",
   "name": "python3"
  },
  "language_info": {
   "codemirror_mode": {
    "name": "ipython",
    "version": 3
   },
   "file_extension": ".py",
   "mimetype": "text/x-python",
   "name": "python",
   "nbconvert_exporter": "python",
   "pygments_lexer": "ipython3",
   "version": "3.6.9"
  }
 },
 "nbformat": 4,
 "nbformat_minor": 2
}
